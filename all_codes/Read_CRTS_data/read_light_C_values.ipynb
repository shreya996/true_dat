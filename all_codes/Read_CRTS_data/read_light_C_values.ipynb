{
 "cells": [
  {
   "cell_type": "code",
   "execution_count": 16,
   "metadata": {},
   "outputs": [
    {
     "data": {
      "text/plain": [
       "array([1109065026725, 1109065028988, 1109065029273, ..., 1001112109947,\n",
       "       1001113002045, 1001113003872], dtype=int64)"
      ]
     },
     "execution_count": 16,
     "metadata": {},
     "output_type": "execute_result"
    }
   ],
   "source": [
    "import pandas as pd\n",
    "data=pd.read_csv('C:\\\\Users\\\\Shreya choudhary\\\\Downloads\\\\ttt\\\\ALLVar', sep=\",\",header=None ,names=[\"ID\",\"MJD\",\"Mag\",\"Magerr\",\"RA\",\"Dec\"])\n",
    "\n",
    "data.ID.unique()\n",
    "#df2=data.loc[data['ID'] == 1109065026725,'MJD']\n",
    "#print(df2)\n",
    "\n",
    "\n"
   ]
  }
 ],
 "metadata": {
  "kernelspec": {
   "display_name": "Python 3",
   "language": "python",
   "name": "python3"
  },
  "language_info": {
   "codemirror_mode": {
    "name": "ipython",
    "version": 3
   },
   "file_extension": ".py",
   "mimetype": "text/x-python",
   "name": "python",
   "nbconvert_exporter": "python",
   "pygments_lexer": "ipython3",
   "version": "3.6.4"
  }
 },
 "nbformat": 4,
 "nbformat_minor": 2
}
