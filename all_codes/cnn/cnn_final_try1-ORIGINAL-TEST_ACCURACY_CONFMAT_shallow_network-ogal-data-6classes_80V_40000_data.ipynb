{
 "cells": [
  {
   "cell_type": "code",
   "execution_count": 147,
   "metadata": {},
   "outputs": [],
   "source": [
    "import mlxtend\n",
    "from mlxtend.evaluate import confusion_matrix\n",
    "from mlxtend.plotting import plot_confusion_matrix\n",
    "\n",
    "import pandas_ml\n",
    "from pandas_ml import ConfusionMatrix"
   ]
  },
  {
   "cell_type": "code",
   "execution_count": 148,
   "metadata": {},
   "outputs": [
    {
     "name": "stdout",
     "output_type": "stream",
     "text": [
      "total: 38281\n",
      "vsplit: 29859\n",
      "tsplit: 8422\n",
      "4211\n",
      "CLASS LABELS: ['CEP', 'DSCT', 'ECL', 'LPV', 'RRLYR']\n",
      "TRAINING IMAGES: 29859\n",
      "VALIDATION IMAGES: 4211\n",
      "TEST IMAGES: 4211\n"
     ]
    }
   ],
   "source": [
    "import os\n",
    "from sklearn.utils import shuffle\n",
    "import glob\n",
    "import sys\n",
    "################### DATASET HANDLING ####################\n",
    "DATASET_PATH = \"/home/dic/jupyter/train_80v_data\" #change the path to your dataset folder here\n",
    "\n",
    "def parseDataset():\n",
    " \n",
    "    #we use subfolders as class labels\n",
    "    classes = [folder for folder in sorted(os.listdir(DATASET_PATH))]\n",
    " \n",
    "    #now we enlist all image paths\n",
    "    images = []\n",
    "    for c in classes:\n",
    "        images += ([os.path.join(DATASET_PATH, c, path) for path in os.listdir(os.path.join(DATASET_PATH, c))])\n",
    "    #print(images)\n",
    "    #shuffle image paths\n",
    "    images = shuffle(images, random_state=80)\n",
    " \n",
    "    #we want to use a 15% validation split\n",
    "     vsplit = int(len(images) * 0.15)\n",
    "    train = images[:-vsplit]\n",
    "    val = images[-vsplit:]\n",
    "    \n",
    "    \n",
    "    train = images[:vsplit] #everything except the last vsplit items in the array \n",
    "    val = images[vsplit:msplit]  #only last vsplit items from the array\n",
    "    test=images[msplit:]\n",
    "    #show some stats\n",
    "    print (\"CLASS LABELS:\", classes)\n",
    "    print (\"TRAINING IMAGES:\", len(train))\n",
    "    print (\"VALIDATION IMAGES:\", len(val))\n",
    "    print (\"TEST IMAGES:\", len(test))\n",
    "    return classes, train, val,test\n",
    " \n",
    "#parse dataset\n",
    "CLASSES, TRAIN, VAL,TEST = parseDataset()\n"
   ]
  },
  {
   "cell_type": "code",
   "execution_count": 149,
   "metadata": {},
   "outputs": [],
   "source": [
    "import lasagne\n",
    "from lasagne import layers\n",
    "from lasagne.nonlinearities import softmax, tanh"
   ]
  },
  {
   "cell_type": "code",
   "execution_count": 150,
   "metadata": {},
   "outputs": [],
   "source": [
    "import os\n",
    "import time\n",
    "from sklearn.utils import shuffle\n",
    "\n",
    "import cv2\n",
    "import numpy as np\n",
    "import matplotlib.pyplot as plt\n",
    "\n",
    "from sklearn.metrics import confusion_matrix\n",
    "import itertools\n",
    "\n",
    "from lasagne import random as lasagne_random\n",
    "from lasagne import layers\n",
    "from lasagne.nonlinearities import softmax, tanh\n",
    "from lasagne import objectives\n",
    "from lasagne import updates\n",
    "\n",
    "import theano\n",
    "import theano.tensor as T\n",
    "\n",
    "import warnings\n",
    "warnings.filterwarnings(\"ignore\")\n"
   ]
  },
  {
   "cell_type": "code",
   "execution_count": 151,
   "metadata": {},
   "outputs": [
    {
     "name": "stdout",
     "output_type": "stream",
     "text": [
      "MODEL HAS 1738501 PARAMS\n"
     ]
    }
   ],
   "source": [
    "from lasagne import layers\n",
    "from lasagne.nonlinearities import softmax, tanh\n",
    " \n",
    "################## BUILDING THE MODEL ###################\n",
    "def buildModel():\n",
    "    #this is our input layer with the inputs (None, dimensions, width, height)\n",
    "    l_input = layers.InputLayer((None, 3, 22, 23))\n",
    "    \n",
    "    #first convolutional layer, has l_input layer as incoming and is followed by a pooling layer\n",
    "    l_conv1 = layers.Conv2DLayer(l_input, num_filters=32, filter_size=3, nonlinearity=lasagne.nonlinearities.rectify)\n",
    "    \n",
    "    #l_pool = layers.MaxPool2DLayer(l_conv1, pool_size=2)\n",
    "    \n",
    "    l_drop1= layers.DropoutLayer(l_conv1,  p=0.1)\n",
    "    \n",
    "    #l_dense1 = layers.DenseLayer(l_drop1, num_units=128)\n",
    "    \n",
    "    #l_conv2 = layers.Conv2DLayer(l_drop1, num_filters=128, filter_size=5, nonlinearity=lasagne.nonlinearities.rectify)\n",
    "    \n",
    "   \n",
    "    #l_conv3 = layers.Conv2DLayer(l_conv2, num_filters=256, filter_size=5, nonlinearity=lasagne.nonlinearities.rectify)\n",
    "    \n",
    "    l_dense2 = layers.DenseLayer(l_drop1, num_units=128)\n",
    "    \n",
    "    l_drop2= layers.DropoutLayer(l_dense2,  p=0.25)\n",
    "    \n",
    "    l_dense2 = layers.DenseLayer(l_drop2, num_units=128)\n",
    "    \n",
    "    l_output = layers.DenseLayer(l_dense2, num_units=5, nonlinearity=lasagne.nonlinearities.softmax)\n",
    "    \n",
    "    #let's see how many params our net has\n",
    "    print (\"MODEL HAS\", layers.count_params(l_output), \"PARAMS\")\n",
    "    \n",
    "    #we return the layer stack as our network by returning the last layer\n",
    "    return l_output\n",
    "\n",
    "\n",
    "NET = buildModel()\n"
   ]
  },
  {
   "cell_type": "code",
   "execution_count": 152,
   "metadata": {},
   "outputs": [],
   "source": [
    "from lasagne import objectives\n",
    " \n",
    "import theano\n",
    "import theano.tensor as T\n",
    " \n",
    "#################### LOSS FUNCTION ######################\n",
    "def calc_loss(prediction, targets):\n",
    " \n",
    "    #categorical crossentropy is the best choice for a multi-class softmax output\n",
    "    l = T.mean(objectives.categorical_crossentropy(prediction, targets))\n",
    "    \n",
    "    return l\n",
    " \n",
    "#theano variable for the class targets\n",
    "#this is the output vector the net should predict\n",
    "targets = T.matrix('targets', dtype=theano.config.floatX)\n",
    " \n",
    "#get the network output\n",
    "prediction = layers.get_output(NET)\n",
    " \n",
    "#calculate the loss\n",
    "loss = calc_loss(prediction, targets)"
   ]
  },
  {
   "cell_type": "code",
   "execution_count": 153,
   "metadata": {},
   "outputs": [],
   "source": [
    "################# ACCURACY FUNCTION #####################\n",
    "def calc_accuracy(prediction, targets):\n",
    " \n",
    "    #we can use the lasagne objective categorical_accuracy to determine the top1 accuracy\n",
    "    a = T.mean(objectives.categorical_accuracy(prediction, targets, top_k=1))\n",
    "    \n",
    "    return a\n",
    " \n",
    "accuracy = calc_accuracy(prediction, targets)"
   ]
  },
  {
   "cell_type": "code",
   "execution_count": 154,
   "metadata": {},
   "outputs": [],
   "source": [
    "from lasagne import updates\n",
    " \n",
    "####################### UPDATES #########################\n",
    "#get all trainable parameters (weights) of our net\n",
    "params = layers.get_all_params(NET, trainable=True)\n",
    " \n",
    "#we use the adam update\n",
    "#it changes params based on our loss function with the learning rate\n",
    "param_updates = updates.adam(loss, params, learning_rate=0.0003)"
   ]
  },
  {
   "cell_type": "code",
   "execution_count": 155,
   "metadata": {},
   "outputs": [
    {
     "name": "stdout",
     "output_type": "stream",
     "text": [
      "COMPILING THEANO TRAIN FUNCTION...\n",
      "DONE!\n",
      "COMPILING THEANO TEST FUNCTION...\n",
      "DONE!\n"
     ]
    }
   ],
   "source": [
    "import theano\n",
    "#################### TRAIN FUNCTION ######################\n",
    "#the theano train functions takes images and class targets as input\n",
    "#it updates the parameters of the net and returns the current loss as float value\n",
    "#compiling theano functions may take a while, you might want to get a coffee now...\n",
    "print (\"COMPILING THEANO TRAIN FUNCTION...\",)\n",
    "train_net = theano.function([layers.get_all_layers(NET)[0].input_var, targets], loss, updates=param_updates)\n",
    "print (\"DONE!\")\n",
    " \n",
    "################# PREDICTION FUNCTION ####################\n",
    "#we need the prediction function to calculate the validation accuracy\n",
    "#this way we can test the net after training\n",
    "#first we need to get the net output\n",
    "net_output = layers.get_output(NET)\n",
    " \n",
    "#now we compile another theano function; this may take a while, too\n",
    "print (\"COMPILING THEANO TEST FUNCTION...\",)\n",
    "test_net = theano.function([layers.get_all_layers(NET)[0].input_var, targets], [net_output, loss, accuracy])\n",
    "print (\"DONE!\")"
   ]
  },
  {
   "cell_type": "code",
   "execution_count": 156,
   "metadata": {},
   "outputs": [],
   "source": [
    "import cv2\n",
    "import numpy as np\n",
    " \n",
    "#################### BATCH HANDLING #####################\n",
    "def loadImageAndTarget(path):\n",
    "    #print(path)\n",
    "    #here we open the image and scale it to 64x64 pixels\n",
    "    img = cv2.imread(path)\n",
    "    \n",
    "    #print(path)\n",
    "    img = cv2.resize(img, (22, 23))\n",
    "    \n",
    "    \n",
    "    #OpenCV uses BGR instead of RGB, but for now we can ignore that\n",
    "    #our image has the shape (64, 64, 3) but we need it to be (3, 64, 64)\n",
    "    img = np.transpose(img, (2, 1, 0))\n",
    "    \n",
    "    #we want to use subfolders as class labels\n",
    "    label = path.split(os.sep[-1])[-2]\n",
    "    #print(label)\n",
    " \n",
    "    #we need to get the index of our label from CLASSES\n",
    "    index = CLASSES.index(label)\n",
    " \n",
    "    #allocate array for target\n",
    "    target = np.zeros((5), dtype='float32')\n",
    " \n",
    "    #we set our target array = 1.0 at our label index, all other entries remain zero\n",
    "    #Example: if label = dog and dog has index 2 in CLASSES, target looks like: [0.0, 0.0, 1.0, 0.0, 0.0]\n",
    "    target[index] = 1.0\n",
    " \n",
    "    #we need a 4D-vector for our image and a 2D-vector for our targets\n",
    "    #we can adjust array dimension with reshape\n",
    "    img = img.reshape(-1, 3, 22, 23)\n",
    "    target = target.reshape(-1, 5)\n",
    " \n",
    "    return img, target"
   ]
  },
  {
   "cell_type": "code",
   "execution_count": null,
   "metadata": {
    "scrolled": true
   },
   "outputs": [],
   "source": []
  },
  {
   "cell_type": "code",
   "execution_count": 157,
   "metadata": {},
   "outputs": [],
   "source": [
    "#a reasonable size for one batch is 128\n",
    "BATCH_SIZE = 250\n",
    "def getDatasetChunk(split):\n",
    " \n",
    "    #get batch-sized chunks of image paths\n",
    "    for i in range(0, len(split), BATCH_SIZE):\n",
    "        yield split[i:i+BATCH_SIZE]\n",
    "        \n",
    "def getNextImageBatch(split=TRAIN):    \n",
    " \n",
    "    #allocate numpy arrays for image data and targets\n",
    "    #input shape of our ConvNet is (None, 3, 22, 23)\n",
    "    x_b = np.zeros((BATCH_SIZE, 3, 22, 23), dtype='float32')\n",
    "    #output shape of our ConvNet is (None, 5) as we have 5 classes\n",
    "    y_b = np.zeros((BATCH_SIZE, 5), dtype='float32')\n",
    " \n",
    "    #fill batch\n",
    "    for chunk in getDatasetChunk(split):        \n",
    "        ib = 0\n",
    "        for path in chunk:\n",
    "            #load image data and class label from path\n",
    "            x, y = loadImageAndTarget(path)\n",
    " \n",
    "            #pack into batch array\n",
    "            x_b[ib] = x\n",
    "            y_b[ib] = y\n",
    "            ib += 1\n",
    " \n",
    "        #instead of return, we use yield\n",
    "        yield x_b[:len(chunk)], y_b[:len(chunk)]"
   ]
  },
  {
   "cell_type": "code",
   "execution_count": 158,
   "metadata": {},
   "outputs": [],
   "source": [
    "\n",
    "        \n",
    "def getNextImageBatch1(split=TEST):    \n",
    " \n",
    "    #allocate numpy arrays for image data and targets\n",
    "    #input shape of our ConvNet is (None, 3, 22, 23)\n",
    "    x_T = np.zeros((BATCH_SIZE, 3, 22, 23), dtype='float32')\n",
    "    #output shape of our ConvNet is (None, 5) as we have 5 classes\n",
    "    y_T = np.zeros((BATCH_SIZE, 5), dtype='float32')\n",
    " \n",
    "    #fill batch\n",
    "    for chunk in getDatasetChunk(split):        \n",
    "        iT = 0\n",
    "        for path in chunk:\n",
    "            #load image data and class label from path\n",
    "            x1, y1 = loadImageAndTarget(path)\n",
    " \n",
    "            #pack into batch array\n",
    "            x_T[iT] = x1\n",
    "            y_T[iT] = y1\n",
    "            iT += 1\n",
    " \n",
    "        #instead of return, we use yield\n",
    "        yield x_T[:len(chunk)], y_T[:len(chunk)]"
   ]
  },
  {
   "cell_type": "code",
   "execution_count": 159,
   "metadata": {},
   "outputs": [],
   "source": [
    "cmatrix = []\n",
    "def clearConfusionMatrix():\n",
    "\n",
    "    global cmatrix\n",
    "\n",
    "    #allocate empty matrix of size 5x5 (for our 5 classes)\n",
    "    cmatrix = np.zeros((len(CLASSES), len(CLASSES)), dtype='int32')\n",
    "    \n",
    "    \n",
    "def updateConfusionMatrix(t, p):\n",
    "    \n",
    "    global cmatrix\n",
    "    cmatrix += confusion_matrix(np.argmax(t, axis=1), np.argmax(p, axis=1))\n",
    "    \n",
    "def showConfusionMatrix():\n",
    "\n",
    "    #new figure\n",
    "    plt.figure(1)\n",
    "    plt.clf()\n",
    "\n",
    "    #show matrix\n",
    "    plt.imshow(cmatrix, interpolation='nearest', cmap=plt.cm.Blues)\n",
    "    plt.title('Confusion Matrix')\n",
    "    plt.colorbar()\n",
    "\n",
    "    #tick marks\n",
    "    tick_marks = np.arange(len(CLASSES))\n",
    "    plt.xticks(tick_marks, CLASSES)\n",
    "    plt.yticks(tick_marks, CLASSES)\n",
    "\n",
    "    #labels\n",
    "    thresh = cmatrix.max() / 2.\n",
    "    for i, j in itertools.product(range(cmatrix.shape[0]), range(cmatrix.shape[1])):\n",
    "        plt.text(j, i, cmatrix[i, j], \n",
    "                 horizontalalignment=\"center\",\n",
    "                 color=\"white\" if cmatrix[i, j] > thresh else \"black\")\n",
    "\n",
    "    #axes labels\n",
    "    plt.ylabel('Target label')\n",
    "    plt.xlabel('Predicted label')\n",
    "\n",
    "    #show\n",
    "    plt.show()\n",
    "    plt.pause(0.5)   \n"
   ]
  },
  {
   "cell_type": "code",
   "execution_count": 160,
   "metadata": {},
   "outputs": [],
   "source": [
    "import matplotlib.pyplot as plt\n",
    " \n",
    "##################### STAT PLOT #########################\n",
    "plt.ion()\n",
    "def showChart(epoch, t, v, a):\n",
    " \n",
    "    #new figure\n",
    "    plt.figure(0)\n",
    "    plt.clf()\n",
    " \n",
    "    #x-Axis = epoch\n",
    "    e = range(0, epoch)\n",
    " \n",
    "    #loss subplot\n",
    "    plt.subplot(211)\n",
    "    plt.plot(e, train_loss, 'r-', label='Train Loss')\n",
    "    plt.plot(e, val_loss, 'b-', label='Val Loss')\n",
    "    plt.ylabel('loss')\n",
    " \n",
    "    #show labels\n",
    "    plt.legend(loc='upper right', shadow=True)\n",
    " \n",
    "    #accuracy subplot\n",
    "    plt.subplot(212)\n",
    "    plt.plot(e, val_accuracy, 'g-')\n",
    "    plt.ylabel('accuracy')\n",
    "    plt.xlabel('epoch')\n",
    " \n",
    "    #show\n",
    "    plt.show()\n",
    "    plt.pause(0.5)"
   ]
  },
  {
   "cell_type": "code",
   "execution_count": null,
   "metadata": {},
   "outputs": [],
   "source": []
  },
  {
   "cell_type": "code",
   "execution_count": null,
   "metadata": {},
   "outputs": [],
   "source": []
  },
  {
   "cell_type": "code",
   "execution_count": 161,
   "metadata": {},
   "outputs": [
    {
     "name": "stdout",
     "output_type": "stream",
     "text": [
      "START TRAINING...\n",
      "EPOCH: 1\n",
      "TRAIN LOSS: 6.411120357718272\n",
      "VAL LOSS: 1.222821500473743\n",
      "VAL ACCURACY: 42.1 %\n",
      "TIME: 54.8 s\n"
     ]
    },
    {
     "data": {
      "image/png": "[encoded data removed]",
      "text/plain": [
       "<Figure size 432x288 with 2 Axes>"
      ]
     },
     "metadata": {},
     "output_type": "display_data"
    },
    {
     "data": {
      "image/png": "[encoded data removed]",
      "text/plain": [
       "<Figure size 432x288 with 2 Axes>"
      ]
     },
     "metadata": {},
     "output_type": "display_data"
    },
    {
     "name": "stdout",
     "output_type": "stream",
     "text": [
      "EPOCH: 2\n",
      "TRAIN LOSS: 1.1160255697315071\n",
      "VAL LOSS: 1.0748228915583147\n",
      "VAL ACCURACY: 57.3 %\n",
      "TIME: 53.7 s\n"
     ]
    },
    {
     "data": {
      "image/png": "[encoded data removed]",
      "text/plain": [
       "<Figure size 432x288 with 2 Axes>"
      ]
     },
     "metadata": {},
     "output_type": "display_data"
    },
    {
     "data": {
      "image/png": "[encoded data removed]",
      "text/plain": [
       "<Figure size 432x288 with 2 Axes>"
      ]
     },
     "metadata": {},
     "output_type": "display_data"
    },
    {
     "ename": "KeyboardInterrupt",
     "evalue": "",
     "output_type": "error",
     "traceback": [
      "\u001b[0;31m---------------------------------------------------------------------------\u001b[0m",
      "\u001b[0;31mKeyboardInterrupt\u001b[0m                         Traceback (most recent call last)",
      "\u001b[0;32m<ipython-input-161-1aa928214f9d>\u001b[0m in \u001b[0;36m<module>\u001b[0;34m()\u001b[0m\n\u001b[1;32m     19\u001b[0m     \u001b[0;31m#iterate over train split batches and calculate mean loss for epoch\u001b[0m\u001b[0;34m\u001b[0m\u001b[0;34m\u001b[0m\u001b[0m\n\u001b[1;32m     20\u001b[0m     \u001b[0mt_l\u001b[0m \u001b[0;34m=\u001b[0m \u001b[0;34m[\u001b[0m\u001b[0;34m]\u001b[0m\u001b[0;34m\u001b[0m\u001b[0m\n\u001b[0;32m---> 21\u001b[0;31m     \u001b[0;32mfor\u001b[0m \u001b[0mimage_batch\u001b[0m\u001b[0;34m,\u001b[0m \u001b[0mtarget_batch\u001b[0m \u001b[0;32min\u001b[0m \u001b[0mgetNextImageBatch\u001b[0m\u001b[0;34m(\u001b[0m\u001b[0;34m)\u001b[0m\u001b[0;34m:\u001b[0m\u001b[0;34m\u001b[0m\u001b[0m\n\u001b[0m\u001b[1;32m     22\u001b[0m \u001b[0;34m\u001b[0m\u001b[0m\n\u001b[1;32m     23\u001b[0m         \u001b[0;31m#calling the training functions returns the current loss\u001b[0m\u001b[0;34m\u001b[0m\u001b[0;34m\u001b[0m\u001b[0m\n",
      "\u001b[0;32m<ipython-input-157-74b1b18afdb8>\u001b[0m in \u001b[0;36mgetNextImageBatch\u001b[0;34m(split)\u001b[0m\n\u001b[1;32m     20\u001b[0m         \u001b[0;32mfor\u001b[0m \u001b[0mpath\u001b[0m \u001b[0;32min\u001b[0m \u001b[0mchunk\u001b[0m\u001b[0;34m:\u001b[0m\u001b[0;34m\u001b[0m\u001b[0m\n\u001b[1;32m     21\u001b[0m             \u001b[0;31m#load image data and class label from path\u001b[0m\u001b[0;34m\u001b[0m\u001b[0;34m\u001b[0m\u001b[0m\n\u001b[0;32m---> 22\u001b[0;31m             \u001b[0mx\u001b[0m\u001b[0;34m,\u001b[0m \u001b[0my\u001b[0m \u001b[0;34m=\u001b[0m \u001b[0mloadImageAndTarget\u001b[0m\u001b[0;34m(\u001b[0m\u001b[0mpath\u001b[0m\u001b[0;34m)\u001b[0m\u001b[0;34m\u001b[0m\u001b[0m\n\u001b[0m\u001b[1;32m     23\u001b[0m \u001b[0;34m\u001b[0m\u001b[0m\n\u001b[1;32m     24\u001b[0m             \u001b[0;31m#pack into batch array\u001b[0m\u001b[0;34m\u001b[0m\u001b[0;34m\u001b[0m\u001b[0m\n",
      "\u001b[0;32m<ipython-input-156-0954d8a82b56>\u001b[0m in \u001b[0;36mloadImageAndTarget\u001b[0;34m(path)\u001b[0m\n\u001b[1;32m      6\u001b[0m     \u001b[0;31m#print(path)\u001b[0m\u001b[0;34m\u001b[0m\u001b[0;34m\u001b[0m\u001b[0m\n\u001b[1;32m      7\u001b[0m     \u001b[0;31m#here we open the image and scale it to 64x64 pixels\u001b[0m\u001b[0;34m\u001b[0m\u001b[0;34m\u001b[0m\u001b[0m\n\u001b[0;32m----> 8\u001b[0;31m     \u001b[0mimg\u001b[0m \u001b[0;34m=\u001b[0m \u001b[0mcv2\u001b[0m\u001b[0;34m.\u001b[0m\u001b[0mimread\u001b[0m\u001b[0;34m(\u001b[0m\u001b[0mpath\u001b[0m\u001b[0;34m)\u001b[0m\u001b[0;34m\u001b[0m\u001b[0m\n\u001b[0m\u001b[1;32m      9\u001b[0m \u001b[0;34m\u001b[0m\u001b[0m\n\u001b[1;32m     10\u001b[0m     \u001b[0;31m#print(path)\u001b[0m\u001b[0;34m\u001b[0m\u001b[0;34m\u001b[0m\u001b[0m\n",
      "\u001b[0;31mKeyboardInterrupt\u001b[0m: "
     ]
    }
   ],
   "source": [
    "import time\n",
    "import sklearn\n",
    "import numpy \n",
    "import matplotlib.pyplot as plt\n",
    "import numpy as np\n",
    "###################### TRAINING #########################\n",
    "print (\"START TRAINING...\")\n",
    "train_loss = []\n",
    "val_loss = []\n",
    "val_accuracy = []\n",
    "for epoch in range(1,200):\n",
    " \n",
    "    #start timer\n",
    "    start = time.time()\n",
    "    \n",
    "    #reset confusion matrix\n",
    "    clearConfusionMatrix()\n",
    " \n",
    "    #iterate over train split batches and calculate mean loss for epoch\n",
    "    t_l = []\n",
    "    for image_batch, target_batch in getNextImageBatch():\n",
    " \n",
    "        #calling the training functions returns the current loss\n",
    "        l = train_net(image_batch, target_batch)\n",
    "        t_l.append(l)\n",
    " \n",
    "    #we validate our net every epoch and pass our validation split through as well\n",
    "    v_l = []\n",
    "    v_a = []\n",
    "    for image_batch, target_batch in getNextImageBatch(VAL):\n",
    "  \n",
    "        #calling the test function returns the net output, loss and accuracy\n",
    "        prediction_batch, l, a = test_net(image_batch, target_batch)\n",
    "        v_l.append(l)\n",
    "        v_a.append(a)\n",
    "         \n",
    "        #save predicions and targets for confusion matrix\n",
    "        \n",
    "        updateConfusionMatrix(target_batch,prediction_batch)\n",
    "    \n",
    "    #mlxtend confusion matrix\n",
    "    #cm=confusion_matrix(target_batch,prediction_batch)\n",
    "    #    fig,ax=plot_confusion_matrix(conf_mat=cm)\n",
    "      #  plt.show()\n",
    "        \n",
    "        #pandas_ml confusion matrix\n",
    "        #confusion_matrix1 = ConfusionMatrix(target_batch,prediction_batch)\n",
    "        #print(\"Confusion matrix:\\n%s\" % confusion_matrix1)\n",
    "        \n",
    "    #stop timer\n",
    "    end = time.time()\n",
    " \n",
    "    #calculate stats for epoch\n",
    "    train_loss.append(np.mean(t_l))\n",
    "    val_loss.append(np.mean(v_l))\n",
    "    val_accuracy.append(np.mean(v_a))\n",
    " \n",
    "    #print stats for epoch\n",
    "    print (\"EPOCH:\", epoch,)\n",
    "    print (\"TRAIN LOSS:\", train_loss[-1],)\n",
    "    print (\"VAL LOSS:\", val_loss[-1],)\n",
    "    print (\"VAL ACCURACY:\", (int(val_accuracy[-1] * 1000) / 10.0), \"%\",)\n",
    "    print (\"TIME:\", (int((end - start) * 10) / 10.0), \"s\")\n",
    " \n",
    "    #show chart\n",
    "    showChart(epoch, train_loss, val_loss, val_accuracy)\n",
    "    \n",
    "    #show confusion matrix\n",
    "    showConfusionMatrix()\n",
    "\n",
    "    #show best accuracy and epoch\n",
    "print (\"BEST VAL ACCURACY:\", (int(max(val_accuracy) * 1000) / 10.0), \"%\", \"EPOCH:\", val_accuracy.index(max(val_accuracy)) + 1)\n",
    "\n",
    "#####TESTING DATA#######\n",
    "test_err = 0\n",
    "test_acc = 0\n",
    "test_batches = 0\n",
    "for image_batch, target_batch in getNextImageBatch1():\n",
    "    test_batch, err, acc = test_net(image_batch, target_batch)\n",
    "    test_err += err\n",
    "    test_acc += acc\n",
    "    test_batches += 1\n",
    "print(\"Final results:\")\n",
    "print(\"  test loss:\\t\\t\\t{:.6f}\".format(test_err / test_batches))\n",
    "print(\"  test accuracy:\\t\\t{:.2f} %\".format(test_acc / test_batches * 100))\n",
    "print (\"TRAINING DONE!\") "
   ]
  },
  {
   "cell_type": "code",
   "execution_count": 73,
   "metadata": {},
   "outputs": [
    {
     "data": {
      "text/plain": [
       "array([1., 1., 1., 1., 1., 1., 1.])"
      ]
     },
     "execution_count": 73,
     "metadata": {},
     "output_type": "execute_result"
    }
   ],
   "source": [
    "from sklearn.utils.class_weight import compute_sample_weight\n",
    "y =  ['ACEP', 'CEP', 'DSCT', 'ECL', 'LPV', 'RRLYR', 'T2CEP']\n",
    "compute_sample_weight(class_weight='unbalanced', y=y)"
   ]
  },
  {
   "cell_type": "code",
   "execution_count": 13,
   "metadata": {},
   "outputs": [],
   "source": [
    "def plot_confusion_matrix(cm, classes,\n",
    "                          normalize=False,\n",
    "                          title='Confusion matrix',\n",
    "                          cmap=plt.cm.Blues):\n",
    "    \"\"\"\n",
    "    This function prints and plots the confusion matrix.\n",
    "    Normalization can be applied by setting `normalize=True`.\n",
    "    \"\"\"\n",
    "    if normalize:\n",
    "        cm = cm.astype('float') / cm.sum(axis=1)[:, np.newaxis]\n",
    "        print(\"Normalized confusion matrix\")\n",
    "    else:\n",
    "        print('Confusion matrix, without normalization')\n",
    "\n",
    "    print(cm)\n",
    "\n",
    "    plt.imshow(cm, interpolation='nearest', cmap=cmap)\n",
    "    plt.title(title)\n",
    "    plt.colorbar()\n",
    "    tick_marks = np.arange(len(classes))\n",
    "    plt.xticks(tick_marks, classes, rotation=45)\n",
    "    plt.yticks(tick_marks, classes)\n",
    "\n",
    "    fmt = '.2f' if normalize else 'd'\n",
    "    thresh = cm.max() / 2.\n",
    "    for i, j in itertools.product(range(cm.shape[0]), range(cm.shape[1])):\n",
    "        plt.text(j, i, format(cm[i, j], fmt),\n",
    "                 horizontalalignment=\"center\",\n",
    "                 color=\"white\" if cm[i, j] > thresh else \"black\")\n",
    "\n",
    "    plt.tight_layout()\n",
    "    plt.ylabel('True label')\n",
    "    plt.xlabel('Predicted label')\n",
    "\n",
    "cm = confusion_matrix(y_true, y_pred)\n",
    "np.set_printoptions(precision=2)\n",
    "\n",
    "plt.figure()\n",
    "plot_confusion_matrix(cm, classes=[0, 1],\n",
    "                      title='Confusion matrix')"
   ]
  },
  {
   "cell_type": "code",
   "execution_count": null,
   "metadata": {},
   "outputs": [],
   "source": []
  },
  {
   "cell_type": "code",
   "execution_count": 69,
   "metadata": {},
   "outputs": [],
   "source": [
    "\n",
    "\n"
   ]
  },
  {
   "cell_type": "code",
   "execution_count": null,
   "metadata": {},
   "outputs": [],
   "source": []
  }
 ],
 "metadata": {
  "kernelspec": {
   "display_name": "Python 3",
   "language": "python",
   "name": "python3"
  },
  "language_info": {
   "codemirror_mode": {
    "name": "ipython",
    "version": 3
   },
   "file_extension": ".py",
   "mimetype": "text/x-python",
   "name": "python",
   "nbconvert_exporter": "python",
   "pygments_lexer": "ipython3",
   "version": "3.6.5"
  }
 },
 "nbformat": 4,
 "nbformat_minor": 2
}
