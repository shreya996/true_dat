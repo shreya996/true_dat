{
 "cells": [
  {
   "cell_type": "code",
   "execution_count": 7,
   "metadata": {},
   "outputs": [],
   "source": [
    "import pandas as pd\n",
    "data=pd.read_csv('C:\\\\Users\\\\DIC\\\\ecsvfile.txt', sep=\" \",names=[\"Catalina_Surveys_ID\",\"ID\",\"RA_(J2000)\",\" Dec \",\"V_(mag)\",\"Period_(days)\",\"Amplitude\",\"Number_Obs\",\"Var_Type\"])\n",
    "data1=pd.read_csv('C:\\\\Users\\\\DIC\\\\ALLVar', sep=\",\",header=None ,names=[\"ID\",\"MJD\",\"Mag\",\"Magerr\",\"RA\",\"Dec\"])\n",
    "result = data[['ID','Var_Type']].merge(data1[['ID','MJD','Mag']], on = 'ID',how = 'left')\n",
    "result1=result.round({'Mag': 6})\n",
    "result2=result1.dropna(axis=0)\n",
    "result2.to_csv('merged.txt', encoding='utf-8',index=False)\n"
   ]
  },
  {
   "cell_type": "code",
   "execution_count": 2,
   "metadata": {},
   "outputs": [],
   "source": [
    "import numpy as np\n",
    "import pandas as pd \n"
   ]
  },
  {
   "cell_type": "code",
   "execution_count": 8,
   "metadata": {},
   "outputs": [],
   "source": [
    "(result1.loc[result1['Var_Type'] == 5]).to_csv('vartype_5_data.txt',encoding='utf-8',index=False)\n"
   ]
  },
  {
   "cell_type": "code",
   "execution_count": 10,
   "metadata": {},
   "outputs": [],
   "source": [
    "import pandas as pd\n",
    "data22=pd.read_csv('C:\\\\Users\\\\DIC\\\\vartype_5_data.txt')\n",
    "data22[data22.isnull().any(axis=1)]\n",
    "result5=data22.dropna(axis=0)\n",
    "\n",
    "result5.to_csv('variable_without.txt',encoding='utf-8',index=False)\n"
   ]
  },
  {
   "cell_type": "code",
   "execution_count": 11,
   "metadata": {},
   "outputs": [
    {
     "data": {
      "text/html": [
       "<div>\n",
       "<style scoped>\n",
       "    .dataframe tbody tr th:only-of-type {\n",
       "        vertical-align: middle;\n",
       "    }\n",
       "\n",
       "    .dataframe tbody tr th {\n",
       "        vertical-align: top;\n",
       "    }\n",
       "\n",
       "    .dataframe thead th {\n",
       "        text-align: right;\n",
       "    }\n",
       "</style>\n",
       "<table border=\"1\" class=\"dataframe\">\n",
       "  <thead>\n",
       "    <tr style=\"text-align: right;\">\n",
       "      <th></th>\n",
       "    </tr>\n",
       "  </thead>\n",
       "  <tbody>\n",
       "  </tbody>\n",
       "</table>\n",
       "</div>"
      ],
      "text/plain": [
       "Empty DataFrame\n",
       "Columns: []\n",
       "Index: []"
      ]
     },
     "execution_count": 11,
     "metadata": {},
     "output_type": "execute_result"
    }
   ],
   "source": [
    "import pandas as pd\n",
    "data2=pd.read_csv('C:\\\\Users\\\\DIC\\\\variable_without.txt')\n",
    "data3 = data2.groupby('ID')\n",
    "data3.apply(lambda x: x.to_csv('ID' + str(x.name) + '.txt',index=False,header=None))"
   ]
  },
  {
   "cell_type": "code",
   "execution_count": 1,
   "metadata": {},
   "outputs": [
    {
     "ename": "NameError",
     "evalue": "name 'pd' is not defined",
     "output_type": "error",
     "traceback": [
      "\u001b[1;31m---------------------------------------------------------------------------\u001b[0m",
      "\u001b[1;31mNameError\u001b[0m                                 Traceback (most recent call last)",
      "\u001b[1;32m<ipython-input-1-b19d5ae480af>\u001b[0m in \u001b[0;36m<module>\u001b[1;34m()\u001b[0m\n\u001b[0;32m      5\u001b[0m \u001b[1;33m\u001b[0m\u001b[0m\n\u001b[0;32m      6\u001b[0m \u001b[0mfile_list\u001b[0m \u001b[1;33m=\u001b[0m \u001b[0mglob\u001b[0m\u001b[1;33m.\u001b[0m\u001b[0mglob\u001b[0m\u001b[1;33m(\u001b[0m\u001b[1;34m\"C:\\\\Users\\\\Shreya Choudhary\\\\var13_sample\"\u001b[0m \u001b[1;33m+\u001b[0m \u001b[1;34m\"\\\\*.txt\"\u001b[0m\u001b[1;33m)\u001b[0m \u001b[1;31m#Get folder path containing text files\u001b[0m\u001b[1;33m\u001b[0m\u001b[0m\n\u001b[1;32m----> 7\u001b[1;33m \u001b[0mabc\u001b[0m \u001b[1;33m=\u001b[0m \u001b[0mpd\u001b[0m\u001b[1;33m.\u001b[0m\u001b[0mDataFrame\u001b[0m\u001b[1;33m(\u001b[0m\u001b[1;33m[\u001b[0m\u001b[1;33m]\u001b[0m\u001b[1;33m)\u001b[0m\u001b[1;33m\u001b[0m\u001b[0m\n\u001b[0m\u001b[0;32m      8\u001b[0m \u001b[0mtraining_data\u001b[0m\u001b[1;33m=\u001b[0m\u001b[1;33m[\u001b[0m\u001b[1;33m]\u001b[0m\u001b[1;33m\u001b[0m\u001b[0m\n\u001b[0;32m      9\u001b[0m \u001b[1;31m#print(file_list)\u001b[0m\u001b[1;33m\u001b[0m\u001b[1;33m\u001b[0m\u001b[0m\n",
      "\u001b[1;31mNameError\u001b[0m: name 'pd' is not defined"
     ]
    }
   ],
   "source": [
    "import glob\n",
    "import numpy as np\n",
    "\n",
    "#l = [pd.read_csv(filename) for filename in glob.glob(\"C:\\\\Users\\\\Shreya choudhary\\\\variable type\\\\*.txt\")]\n",
    "\n",
    "file_list = glob.glob(\"C:\\\\Users\\\\Shreya Choudhary\\\\var13_sample\" + \"\\\\*.txt\") #Get folder path containing text files\n",
    "abc = pd.DataFrame([])\n",
    "training_data=[]\n",
    "#print(file_list)\n",
    "d=0\n",
    "for file_path in file_list:\n",
    "    ID,vartype,MJD,Mag=np.loadtxt(file_path, unpack=True, delimiter=',',dtype=None)\n",
    "    c=[]\n",
    "    e=[]\n",
    "    for i in range(0,len(Mag)):\n",
    "        for j in range(i+1,len(Mag)):\n",
    "            c.append(Mag[i]-Mag[j])\n",
    "    #print(c)   \n",
    "    for i in range(0,len(MJD)):\n",
    "        for j in range(i+1,len(MJD)):\n",
    "            e.append(MJD[j]-MJD[i])\n",
    "    #print(e)\n",
    "    s1 = pd.Series(c, name='dm_y')\n",
    "\n",
    "    s2 = pd.Series(e,name='dt_x')\n",
    "\n",
    "\n",
    "\n",
    "#Assigning bins to all dmdt values\n",
    "\n",
    "    bins=[-8,-5,-3,-2.5,-2,-1.5,-1,-0.5,-0.3,-0.2,-0.1,0,0.1,0.2,0.3,0.5,1,1.5,2,2.5,3,5,8]\n",
    "    bins1=[1/145,2/145,3/145,4/145,1/25,2/25,3/25,1.5,2.5,3.5,4.5,5.5,7,10,20,30,60,90,120,240,600,960,2000,4000] #bins of x axis\n",
    "    return_bins_of_s2= np.digitize(s2, bins1) # np.digitize gives the bin number to which a particular value of dm, dt belongs to.\n",
    "    return_bins_of_s1 = np.digitize(s1, bins)\n",
    "    ybins = pd.Series(return_bins_of_s1, name='ybin')\n",
    "    xbins = pd.Series(return_bins_of_s2, name='xbin')\n",
    "\n",
    "    dmdt=pd.concat([s1, s2,ybins,xbins], axis=1)\n",
    "    #print(dmdt)\n",
    "\n",
    "\n",
    "# exclude all the values from dataframe dmdt that are outside the bin boundries i.e. bin number 0, 23 and 24\n",
    "    dmdt=dmdt[dmdt.ybin != 23]\n",
    "    dmdt=dmdt[dmdt.xbin != 0]\n",
    "    dmdt=dmdt[dmdt.ybin != 0]\n",
    "    dmdt=dmdt[dmdt.xbin != 24]\n",
    "\n",
    "\n",
    "    dmdt['bins_xaxis']=pd.cut(dmdt['dt_x'],bins1) #pd.cut gives range of bin for all dt_x values \n",
    "    dmdt['bins_yaxis']=pd.cut(dmdt['dm_y'],bins)\n",
    "\n",
    "\n",
    "    dmdt['merged_dmdt']=  dmdt.dm_y.map(str) + ',' + dmdt.dt_x.map(str)\n",
    "    dmdt['dmdt_bin_number']=  dmdt.ybin.map(str) + ',' + dmdt.xbin.map(str)\n",
    "\n",
    "    dmdt.dropna() # drops all the values with NaN in dataframe dmdt\n",
    "    #print(dmdt)\n",
    " \n",
    "\n",
    "\n",
    "    dmdtpairs=len(dmdt.dm_y) # number of dmdtpairs for a light curve of length n that falls under the given bin range\n",
    "    #print(dmdtpairs)\n",
    "\n",
    "\n",
    "#grouping and counting all the values that fall in all individual bins\n",
    "    df=dmdt.groupby('dmdt_bin_number',sort=False).merged_dmdt.agg(['count']) #counts how many merged_dmdt benlongs to each 'dmdt_bin_number' range\n",
    "    #print(df)\n",
    "    df.to_csv('count1.txt',encoding='utf-8')\n",
    "\n",
    "    data_count=pd.read_csv('C:\\\\Users\\\\Shreya Choudhary\\\\count1.txt')\n",
    "\n",
    "    ldf=dmdt.set_index('dmdt_bin_number').join(data_count.set_index('dmdt_bin_number'))\n",
    "\n",
    "    abcc=ldf.dropna()\n",
    "    final=abcc.drop_duplicates(['ybin','xbin']) # drops all the rows where both of values of ybin and xbin are duplicate\n",
    "    final1=final.drop(['bins_xaxis','bins_yaxis','merged_dmdt'],axis=1)\n",
    "    #print(final1)\n",
    "    final1.to_csv('final_table11.txt',encoding='utf-8',header=None,index=False)\n",
    "\n",
    "    \n",
    "    dm,dt,xbin,ybin,count=np.loadtxt('final_table11.txt',unpack=True,delimiter=',',dtype=int)\n",
    "\n",
    "# assignig intensity values to each bin. Bins are in the form of 23x24 numpy array\n",
    "    \n",
    "    #array1=[]\n",
    "    #label1=[1,0] #for 2nd variavle: label2=[0,1]\n",
    "    aa = np.zeros(shape=(22,23))\n",
    "    for gg in range(0,len(xbin)):\n",
    "                    \n",
    "        l1=xbin[gg]\n",
    "        m1=ybin[gg]\n",
    "        o1=count[gg]\n",
    "        i1=(255 * o1)/(dmdtpairs + 0.99999)\n",
    "        #print(i1)\n",
    "        aa[l1-1,m1-1]=i1\n",
    "    #print (aa)\n",
    "    aa.flatten()\n",
    "    training_data.append(aa)\n",
    "abc = pd.DataFrame({'x_train':training_data})\n",
    "print (abc)   \n",
    "      \n",
    "   \n"
   ]
  },
  {
   "cell_type": "code",
   "execution_count": 71,
   "metadata": {},
   "outputs": [
    {
     "name": "stdout",
     "output_type": "stream",
     "text": [
      "                                             x_train y_train\n",
      "0  [[0.0, 0.0, 0.0, 0.0, 0.0, 0.0, 0.0, 0.0, 0.0,...       0\n",
      "1  [[0.0, 0.0, 0.0, 0.0, 0.0, 0.0, 0.0, 0.0, 0.0,...       0\n",
      "2  [[0.0, 0.0, 0.0, 0.0, 0.0, 0.0, 0.0, 0.0, 0.0,...       0\n",
      "3  [[0.0, 0.0, 0.0, 0.0, 0.0, 0.0, 0.0, 0.0, 0.0,...       0\n"
     ]
    }
   ],
   "source": [
    "abc['y_train']='0'\n",
    "print(abc)"
   ]
  },
  {
   "cell_type": "code",
   "execution_count": 76,
   "metadata": {},
   "outputs": [
    {
     "name": "stdout",
     "output_type": "stream",
     "text": [
      "[[0.00000000e+00 0.00000000e+00 0.00000000e+00 0.00000000e+00\n",
      "  0.00000000e+00 0.00000000e+00 0.00000000e+00 0.00000000e+00\n",
      "  0.00000000e+00 0.00000000e+00 0.00000000e+00 0.00000000e+00\n",
      "  0.00000000e+00 0.00000000e+00 0.00000000e+00 0.00000000e+00\n",
      "  0.00000000e+00 0.00000000e+00 0.00000000e+00 0.00000000e+00\n",
      "  0.00000000e+00 0.00000000e+00 0.00000000e+00]\n",
      " [0.00000000e+00 0.00000000e+00 0.00000000e+00 0.00000000e+00\n",
      "  0.00000000e+00 0.00000000e+00 0.00000000e+00 0.00000000e+00\n",
      "  0.00000000e+00 0.00000000e+00 0.00000000e+00 0.00000000e+00\n",
      "  0.00000000e+00 0.00000000e+00 0.00000000e+00 0.00000000e+00\n",
      "  0.00000000e+00 0.00000000e+00 0.00000000e+00 0.00000000e+00\n",
      "  0.00000000e+00 0.00000000e+00 0.00000000e+00]\n",
      " [0.00000000e+00 0.00000000e+00 0.00000000e+00 0.00000000e+00\n",
      "  0.00000000e+00 0.00000000e+00 0.00000000e+00 0.00000000e+00\n",
      "  0.00000000e+00 0.00000000e+00 0.00000000e+00 0.00000000e+00\n",
      "  0.00000000e+00 0.00000000e+00 0.00000000e+00 0.00000000e+00\n",
      "  0.00000000e+00 0.00000000e+00 0.00000000e+00 0.00000000e+00\n",
      "  0.00000000e+00 0.00000000e+00 0.00000000e+00]\n",
      " [0.00000000e+00 0.00000000e+00 0.00000000e+00 0.00000000e+00\n",
      "  0.00000000e+00 0.00000000e+00 0.00000000e+00 0.00000000e+00\n",
      "  0.00000000e+00 0.00000000e+00 0.00000000e+00 0.00000000e+00\n",
      "  0.00000000e+00 0.00000000e+00 0.00000000e+00 0.00000000e+00\n",
      "  0.00000000e+00 0.00000000e+00 0.00000000e+00 0.00000000e+00\n",
      "  0.00000000e+00 0.00000000e+00 0.00000000e+00]\n",
      " [0.00000000e+00 0.00000000e+00 0.00000000e+00 0.00000000e+00\n",
      "  0.00000000e+00 0.00000000e+00 0.00000000e+00 0.00000000e+00\n",
      "  0.00000000e+00 0.00000000e+00 0.00000000e+00 0.00000000e+00\n",
      "  0.00000000e+00 0.00000000e+00 0.00000000e+00 0.00000000e+00\n",
      "  0.00000000e+00 0.00000000e+00 0.00000000e+00 0.00000000e+00\n",
      "  3.28894335e-02 1.64447167e-02 0.00000000e+00]\n",
      " [0.00000000e+00 0.00000000e+00 0.00000000e+00 0.00000000e+00\n",
      "  0.00000000e+00 0.00000000e+00 0.00000000e+00 0.00000000e+00\n",
      "  0.00000000e+00 0.00000000e+00 0.00000000e+00 0.00000000e+00\n",
      "  0.00000000e+00 0.00000000e+00 0.00000000e+00 0.00000000e+00\n",
      "  0.00000000e+00 1.97336601e-01 0.00000000e+00 3.74117306e+00\n",
      "  4.34962758e+00 4.95808210e+00 2.26114855e+00]\n",
      " [0.00000000e+00 0.00000000e+00 0.00000000e+00 0.00000000e+00\n",
      "  0.00000000e+00 0.00000000e+00 0.00000000e+00 0.00000000e+00\n",
      "  0.00000000e+00 0.00000000e+00 0.00000000e+00 3.28894335e-02\n",
      "  0.00000000e+00 5.75565086e-02 3.28894335e-02 4.27562635e-01\n",
      "  2.46670751e-01 5.50898011e-01 7.07122820e-01 7.47412376e+00\n",
      "  5.59120369e+00 1.13468545e+01 3.98784381e+00]\n",
      " [8.22235837e-03 8.22235837e-03 0.00000000e+00 0.00000000e+00\n",
      "  0.00000000e+00 0.00000000e+00 0.00000000e+00 0.00000000e+00\n",
      "  0.00000000e+00 0.00000000e+00 0.00000000e+00 8.22235837e-03\n",
      "  6.57788669e-02 4.35784994e-01 4.44007352e-01 1.39780092e-01\n",
      "  1.64447167e-02 9.04459421e-02 5.50898011e-01 5.24586464e+00\n",
      "  3.83161900e+00 8.14013478e+00 2.85315835e+00]\n",
      " [2.46670751e-02 1.64447167e-02 0.00000000e+00 0.00000000e+00\n",
      "  0.00000000e+00 0.00000000e+00 0.00000000e+00 0.00000000e+00\n",
      "  0.00000000e+00 0.00000000e+00 0.00000000e+00 3.28894335e-02\n",
      "  6.57788669e-02 1.97336601e-01 8.22235837e-03 1.15113017e-01\n",
      "  1.64447167e-02 1.64447167e-02 2.13781318e-01 2.03092252e+00\n",
      "  2.26114855e+00 4.97452681e+00 1.87469771e+00]\n",
      " [9.86683004e-02 4.11117918e-02 1.64447167e-02 8.22235837e-03\n",
      "  0.00000000e+00 0.00000000e+00 0.00000000e+00 0.00000000e+00\n",
      "  0.00000000e+00 1.64447167e-02 7.40012253e-02 3.28894335e-02\n",
      "  1.80891884e-01 3.12449618e-01 0.00000000e+00 1.15113017e-01\n",
      "  7.40012253e-02 0.00000000e+00 2.22003676e-01 2.36803921e+00\n",
      "  2.23648148e+00 5.43497888e+00 1.89936478e+00]\n",
      " [4.27562635e-01 2.46670751e-01 6.57788669e-02 8.22235837e-03\n",
      "  8.22235837e-03 0.00000000e+00 4.11117918e-02 0.00000000e+00\n",
      "  8.22235837e-03 1.64447167e-02 5.75565086e-02 6.57788669e-02\n",
      "  3.61783768e-01 3.78228485e-01 4.93341502e-02 3.28894335e-02\n",
      "  9.04459421e-02 8.22235837e-02 3.45339051e-01 3.55205882e+00\n",
      "  2.49959694e+00 6.06810048e+00 2.28581563e+00]\n",
      " [5.01563860e-01 2.96004901e-01 1.15113017e-01 8.22235837e-03\n",
      "  0.00000000e+00 0.00000000e+00 9.04459421e-02 0.00000000e+00\n",
      "  8.22235837e-02 0.00000000e+00 0.00000000e+00 1.89114242e-01\n",
      "  1.97336601e-01 1.56224809e-01 1.15113017e-01 9.86683004e-02\n",
      "  5.75565086e-02 1.64447167e-01 3.04227260e-01 3.37116693e+00\n",
      "  3.13271854e+00 7.10411763e+00 3.46161287e+00]\n",
      " [1.15113017e-01 2.46670751e-02 2.46670751e-02 0.00000000e+00\n",
      "  0.00000000e+00 0.00000000e+00 0.00000000e+00 0.00000000e+00\n",
      "  4.11117918e-02 0.00000000e+00 0.00000000e+00 9.86683004e-02\n",
      "  1.56224809e-01 2.96004901e-01 1.72669526e-01 1.80891884e-01\n",
      "  4.11117918e-02 2.38448393e-01 2.22003676e-01 2.55715345e+00\n",
      "  3.10805146e+00 5.48431303e+00 3.29716571e+00]\n",
      " [1.64447167e-02 1.64447167e-02 0.00000000e+00 0.00000000e+00\n",
      "  0.00000000e+00 0.00000000e+00 0.00000000e+00 0.00000000e+00\n",
      "  0.00000000e+00 1.64447167e-02 0.00000000e+00 0.00000000e+00\n",
      "  6.57788669e-02 4.44007352e-01 1.23335376e-01 1.15113017e-01\n",
      "  6.57788669e-02 2.46670751e-01 1.80891884e-01 2.47492987e+00\n",
      "  3.46983523e+00 4.54696418e+00 2.20359204e+00]\n",
      " [8.22235837e-03 0.00000000e+00 0.00000000e+00 0.00000000e+00\n",
      "  0.00000000e+00 0.00000000e+00 0.00000000e+00 0.00000000e+00\n",
      "  0.00000000e+00 1.64447167e-02 0.00000000e+00 0.00000000e+00\n",
      "  0.00000000e+00 4.19340277e-01 2.22003676e-01 2.22003676e-01\n",
      "  9.04459421e-02 3.45339051e-01 1.80891884e-01 4.47296295e+00\n",
      "  4.96630445e+00 9.67771580e+00 4.00428853e+00]\n",
      " [0.00000000e+00 0.00000000e+00 0.00000000e+00 0.00000000e+00\n",
      "  0.00000000e+00 0.00000000e+00 0.00000000e+00 0.00000000e+00\n",
      "  0.00000000e+00 0.00000000e+00 0.00000000e+00 0.00000000e+00\n",
      "  0.00000000e+00 2.63115468e-01 1.48002451e-01 1.12646310e+00\n",
      "  8.38680554e-01 7.15345178e-01 5.42675652e-01 8.04146648e+00\n",
      "  7.55634734e+00 1.48824686e+01 7.22745301e+00]\n",
      " [0.00000000e+00 0.00000000e+00 0.00000000e+00 0.00000000e+00\n",
      "  0.00000000e+00 0.00000000e+00 0.00000000e+00 0.00000000e+00\n",
      "  0.00000000e+00 0.00000000e+00 0.00000000e+00 0.00000000e+00\n",
      "  0.00000000e+00 0.00000000e+00 0.00000000e+00 5.01563860e-01\n",
      "  1.48002451e+00 3.12449618e-01 2.13781318e-01 5.36097766e+00\n",
      "  2.59004289e+00 8.84725760e+00 5.82142972e+00]\n",
      " [0.00000000e+00 0.00000000e+00 0.00000000e+00 0.00000000e+00\n",
      "  0.00000000e+00 0.00000000e+00 0.00000000e+00 0.00000000e+00\n",
      "  0.00000000e+00 0.00000000e+00 0.00000000e+00 0.00000000e+00\n",
      "  0.00000000e+00 0.00000000e+00 0.00000000e+00 2.30226034e-01\n",
      "  3.37116693e-01 0.00000000e+00 0.00000000e+00 4.85119144e-01\n",
      "  6.41343953e-01 1.27446555e+00 1.91580950e+00]\n",
      " [0.00000000e+00 0.00000000e+00 0.00000000e+00 0.00000000e+00\n",
      "  0.00000000e+00 0.00000000e+00 0.00000000e+00 0.00000000e+00\n",
      "  0.00000000e+00 0.00000000e+00 0.00000000e+00 0.00000000e+00\n",
      "  0.00000000e+00 0.00000000e+00 0.00000000e+00 0.00000000e+00\n",
      "  0.00000000e+00 0.00000000e+00 0.00000000e+00 0.00000000e+00\n",
      "  0.00000000e+00 0.00000000e+00 0.00000000e+00]\n",
      " [0.00000000e+00 0.00000000e+00 0.00000000e+00 0.00000000e+00\n",
      "  0.00000000e+00 0.00000000e+00 0.00000000e+00 0.00000000e+00\n",
      "  0.00000000e+00 0.00000000e+00 0.00000000e+00 0.00000000e+00\n",
      "  0.00000000e+00 0.00000000e+00 0.00000000e+00 0.00000000e+00\n",
      "  0.00000000e+00 0.00000000e+00 0.00000000e+00 0.00000000e+00\n",
      "  0.00000000e+00 0.00000000e+00 0.00000000e+00]\n",
      " [0.00000000e+00 0.00000000e+00 0.00000000e+00 0.00000000e+00\n",
      "  0.00000000e+00 0.00000000e+00 0.00000000e+00 0.00000000e+00\n",
      "  0.00000000e+00 0.00000000e+00 0.00000000e+00 0.00000000e+00\n",
      "  0.00000000e+00 0.00000000e+00 0.00000000e+00 0.00000000e+00\n",
      "  0.00000000e+00 0.00000000e+00 0.00000000e+00 0.00000000e+00\n",
      "  0.00000000e+00 0.00000000e+00 0.00000000e+00]\n",
      " [0.00000000e+00 0.00000000e+00 0.00000000e+00 0.00000000e+00\n",
      "  0.00000000e+00 0.00000000e+00 0.00000000e+00 0.00000000e+00\n",
      "  0.00000000e+00 0.00000000e+00 0.00000000e+00 0.00000000e+00\n",
      "  0.00000000e+00 0.00000000e+00 0.00000000e+00 0.00000000e+00\n",
      "  0.00000000e+00 0.00000000e+00 0.00000000e+00 0.00000000e+00\n",
      "  0.00000000e+00 0.00000000e+00 0.00000000e+00]]\n"
     ]
    }
   ],
   "source": [
    "print (abc.x_train[0])"
   ]
  },
  {
   "cell_type": "code",
   "execution_count": 67,
   "metadata": {},
   "outputs": [
    {
     "name": "stdout",
     "output_type": "stream",
     "text": [
      "col    [[0.0, 0.0, 0.0, 0.0, 0.0, 0.0, 0.0, 0.0, 0.0,...\n",
      "Name: 2, dtype: object\n",
      "col    [[0.0, 0.0, 0.0, 0.0, 0.0, 0.0, 0.0, 0.0, 0.0,...\n",
      "Name: 1, dtype: object\n"
     ]
    }
   ],
   "source": [
    "print (abc.iloc[2])\n",
    "a=abc.iloc[1]\n",
    "print(a)\n",
    "abc.iloc[1].to_csv('pandas12.txt', header=None, index=None)\n"
   ]
  },
  {
   "cell_type": "code",
   "execution_count": 20,
   "metadata": {},
   "outputs": [
    {
     "ename": "ValueError",
     "evalue": "Must pass 2-d input",
     "output_type": "error",
     "traceback": [
      "\u001b[1;31m---------------------------------------------------------------------------\u001b[0m",
      "\u001b[1;31mValueError\u001b[0m                                Traceback (most recent call last)",
      "\u001b[1;32m<ipython-input-20-f999aba71677>\u001b[0m in \u001b[0;36m<module>\u001b[1;34m()\u001b[0m\n\u001b[0;32m      1\u001b[0m \u001b[1;32mimport\u001b[0m \u001b[0mpandas\u001b[0m \u001b[1;32mas\u001b[0m \u001b[0mpd\u001b[0m\u001b[1;33m\u001b[0m\u001b[0m\n\u001b[0;32m      2\u001b[0m \u001b[1;33m\u001b[0m\u001b[0m\n\u001b[1;32m----> 3\u001b[1;33m \u001b[0mdf_1\u001b[0m \u001b[1;33m=\u001b[0m \u001b[0mpd\u001b[0m\u001b[1;33m.\u001b[0m\u001b[0mDataFrame\u001b[0m\u001b[1;33m(\u001b[0m\u001b[0mtraining_data\u001b[0m\u001b[1;33m,\u001b[0m \u001b[0mindex\u001b[0m\u001b[1;33m=\u001b[0m\u001b[0mdf_1\u001b[0m\u001b[1;33m.\u001b[0m\u001b[0mindex\u001b[0m\u001b[1;33m)\u001b[0m\u001b[1;33m\u001b[0m\u001b[0m\n\u001b[0m\u001b[0;32m      4\u001b[0m \u001b[1;31m#df_1['a_'] = pd.Series(training_data, index=df_1.index)\u001b[0m\u001b[1;33m\u001b[0m\u001b[1;33m\u001b[0m\u001b[0m\n\u001b[0;32m      5\u001b[0m \u001b[0mprint\u001b[0m\u001b[1;33m(\u001b[0m\u001b[0mdf_1\u001b[0m\u001b[1;33m)\u001b[0m\u001b[1;33m\u001b[0m\u001b[0m\n",
      "\u001b[1;32m~\\Anaconda3\\lib\\site-packages\\pandas\\core\\frame.py\u001b[0m in \u001b[0;36m__init__\u001b[1;34m(self, data, index, columns, dtype, copy)\u001b[0m\n\u001b[0;32m    383\u001b[0m                 \u001b[1;32melse\u001b[0m\u001b[1;33m:\u001b[0m\u001b[1;33m\u001b[0m\u001b[0m\n\u001b[0;32m    384\u001b[0m                     mgr = self._init_ndarray(data, index, columns, dtype=dtype,\n\u001b[1;32m--> 385\u001b[1;33m                                              copy=copy)\n\u001b[0m\u001b[0;32m    386\u001b[0m             \u001b[1;32melse\u001b[0m\u001b[1;33m:\u001b[0m\u001b[1;33m\u001b[0m\u001b[0m\n\u001b[0;32m    387\u001b[0m                 \u001b[0mmgr\u001b[0m \u001b[1;33m=\u001b[0m \u001b[0mself\u001b[0m\u001b[1;33m.\u001b[0m\u001b[0m_init_dict\u001b[0m\u001b[1;33m(\u001b[0m\u001b[1;33m{\u001b[0m\u001b[1;33m}\u001b[0m\u001b[1;33m,\u001b[0m \u001b[0mindex\u001b[0m\u001b[1;33m,\u001b[0m \u001b[0mcolumns\u001b[0m\u001b[1;33m,\u001b[0m \u001b[0mdtype\u001b[0m\u001b[1;33m=\u001b[0m\u001b[0mdtype\u001b[0m\u001b[1;33m)\u001b[0m\u001b[1;33m\u001b[0m\u001b[0m\n",
      "\u001b[1;32m~\\Anaconda3\\lib\\site-packages\\pandas\\core\\frame.py\u001b[0m in \u001b[0;36m_init_ndarray\u001b[1;34m(self, values, index, columns, dtype, copy)\u001b[0m\n\u001b[0;32m    511\u001b[0m         \u001b[1;31m# by definition an array here\u001b[0m\u001b[1;33m\u001b[0m\u001b[1;33m\u001b[0m\u001b[0m\n\u001b[0;32m    512\u001b[0m         \u001b[1;31m# the dtypes will be coerced to a single dtype\u001b[0m\u001b[1;33m\u001b[0m\u001b[1;33m\u001b[0m\u001b[0m\n\u001b[1;32m--> 513\u001b[1;33m         \u001b[0mvalues\u001b[0m \u001b[1;33m=\u001b[0m \u001b[0m_prep_ndarray\u001b[0m\u001b[1;33m(\u001b[0m\u001b[0mvalues\u001b[0m\u001b[1;33m,\u001b[0m \u001b[0mcopy\u001b[0m\u001b[1;33m=\u001b[0m\u001b[0mcopy\u001b[0m\u001b[1;33m)\u001b[0m\u001b[1;33m\u001b[0m\u001b[0m\n\u001b[0m\u001b[0;32m    514\u001b[0m \u001b[1;33m\u001b[0m\u001b[0m\n\u001b[0;32m    515\u001b[0m         \u001b[1;32mif\u001b[0m \u001b[0mdtype\u001b[0m \u001b[1;32mis\u001b[0m \u001b[1;32mnot\u001b[0m \u001b[1;32mNone\u001b[0m\u001b[1;33m:\u001b[0m\u001b[1;33m\u001b[0m\u001b[0m\n",
      "\u001b[1;32m~\\Anaconda3\\lib\\site-packages\\pandas\\core\\frame.py\u001b[0m in \u001b[0;36m_prep_ndarray\u001b[1;34m(values, copy)\u001b[0m\n\u001b[0;32m   6255\u001b[0m         \u001b[0mvalues\u001b[0m \u001b[1;33m=\u001b[0m \u001b[0mvalues\u001b[0m\u001b[1;33m.\u001b[0m\u001b[0mreshape\u001b[0m\u001b[1;33m(\u001b[0m\u001b[1;33m(\u001b[0m\u001b[0mvalues\u001b[0m\u001b[1;33m.\u001b[0m\u001b[0mshape\u001b[0m\u001b[1;33m[\u001b[0m\u001b[1;36m0\u001b[0m\u001b[1;33m]\u001b[0m\u001b[1;33m,\u001b[0m \u001b[1;36m1\u001b[0m\u001b[1;33m)\u001b[0m\u001b[1;33m)\u001b[0m\u001b[1;33m\u001b[0m\u001b[0m\n\u001b[0;32m   6256\u001b[0m     \u001b[1;32melif\u001b[0m \u001b[0mvalues\u001b[0m\u001b[1;33m.\u001b[0m\u001b[0mndim\u001b[0m \u001b[1;33m!=\u001b[0m \u001b[1;36m2\u001b[0m\u001b[1;33m:\u001b[0m\u001b[1;33m\u001b[0m\u001b[0m\n\u001b[1;32m-> 6257\u001b[1;33m         \u001b[1;32mraise\u001b[0m \u001b[0mValueError\u001b[0m\u001b[1;33m(\u001b[0m\u001b[1;34m'Must pass 2-d input'\u001b[0m\u001b[1;33m)\u001b[0m\u001b[1;33m\u001b[0m\u001b[0m\n\u001b[0m\u001b[0;32m   6258\u001b[0m \u001b[1;33m\u001b[0m\u001b[0m\n\u001b[0;32m   6259\u001b[0m     \u001b[1;32mreturn\u001b[0m \u001b[0mvalues\u001b[0m\u001b[1;33m\u001b[0m\u001b[0m\n",
      "\u001b[1;31mValueError\u001b[0m: Must pass 2-d input"
     ]
    }
   ],
   "source": [
    "import pandas as pd\n",
    "\n",
    "df_1 = pd.DataFrame(training_data, index=df_1.index) \n",
    "#df_1['a_'] = pd.Series(training_data, index=df_1.index)\n",
    "print(df_1)"
   ]
  },
  {
   "cell_type": "code",
   "execution_count": 12,
   "metadata": {},
   "outputs": [
    {
     "ename": "AttributeError",
     "evalue": "'list' object has no attribute 'shape'",
     "output_type": "error",
     "traceback": [
      "\u001b[1;31m---------------------------------------------------------------------------\u001b[0m",
      "\u001b[1;31mAttributeError\u001b[0m                            Traceback (most recent call last)",
      "\u001b[1;32m<ipython-input-12-66cff8694546>\u001b[0m in \u001b[0;36m<module>\u001b[1;34m()\u001b[0m\n\u001b[1;32m----> 1\u001b[1;33m \u001b[0marray\u001b[0m\u001b[1;33m.\u001b[0m\u001b[0mshape\u001b[0m\u001b[1;33m(\u001b[0m\u001b[1;33m)\u001b[0m\u001b[1;33m\u001b[0m\u001b[0m\n\u001b[0m",
      "\u001b[1;31mAttributeError\u001b[0m: 'list' object has no attribute 'shape'"
     ]
    }
   ],
   "source": [
    "array.shape()"
   ]
  },
  {
   "cell_type": "code",
   "execution_count": null,
   "metadata": {},
   "outputs": [],
   "source": [
    " \n",
    "    import seaborn as sns\n",
    "    sns.set()\n",
    "    image11=sns.heatmap(aa,xticklabels=False, yticklabels=False,vmin=0, vmax=255,cbar=False,cmap='jet')\n",
    "#image11=sns.heatmap(aa,xticklabels=False, yticklabels=False)\n",
    "#vmin=0, vmax=255,\n",
    "#cmap='RdYlBu'// colormap of heatmap\n",
    "#sns_plot.figure.savefig(\"output.png\")\n",
    "    \n",
    "    image11.figure.savefig(\"C:\\\\Users\\\\Shreya Choudhary\\\\images_sv13\"+\"\\\\Var13_fig%d.png\" %d)\n",
    "    d+=1"
   ]
  },
  {
   "cell_type": "code",
   "execution_count": null,
   "metadata": {},
   "outputs": [],
   "source": []
  },
  {
   "cell_type": "code",
   "execution_count": null,
   "metadata": {},
   "outputs": [],
   "source": []
  }
 ],
 "metadata": {
  "kernelspec": {
   "display_name": "Python 3",
   "language": "python",
   "name": "python3"
  },
  "language_info": {
   "codemirror_mode": {
    "name": "ipython",
    "version": 3
   },
   "file_extension": ".py",
   "mimetype": "text/x-python",
   "name": "python",
   "nbconvert_exporter": "python",
   "pygments_lexer": "ipython3",
   "version": "3.6.5"
  }
 },
 "nbformat": 4,
 "nbformat_minor": 2
}
