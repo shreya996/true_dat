{
 "cells": [
  {
   "cell_type": "code",
   "execution_count": 56,
   "metadata": {},
   "outputs": [],
   "source": [
    "from PIL import Image\n",
    "import glob\n",
    "import numpy as np"
   ]
  },
  {
   "cell_type": "code",
   "execution_count": 74,
   "metadata": {},
   "outputs": [],
   "source": [
    "imgList = glob.glob(\"/home/dic/jupyter/image_23x4_RRab\" + \"/*.png\")"
   ]
  },
  {
   "cell_type": "code",
   "execution_count": 76,
   "metadata": {},
   "outputs": [],
   "source": [
    "first = True\n",
    "for img in imgList:\n",
    "    temp = np.asarray(Image.open(img))\n",
    "    temp = temp.astype('uint32')\n",
    "    if first:\n",
    "        sumImage = temp\n",
    "        first = False\n",
    "    else:\n",
    "        sumImage = sumImage + temp\n",
    "avgArray = sumImage/len(imgList)\n",
    "avgImg = Image.fromarray(avgArray.astype('uint8'))\n",
    "avgImg.save(\"avg_4bin.png\")\n",
    "avgImg.show()"
   ]
  }
 ],
 "metadata": {
  "kernelspec": {
   "display_name": "Python 3",
   "language": "python",
   "name": "python3"
  },
  "language_info": {
   "codemirror_mode": {
    "name": "ipython",
    "version": 3
   },
   "file_extension": ".py",
   "mimetype": "text/x-python",
   "name": "python",
   "nbconvert_exporter": "python",
   "pygments_lexer": "ipython3",
   "version": "3.6.5"
  }
 },
 "nbformat": 4,
 "nbformat_minor": 2
}
